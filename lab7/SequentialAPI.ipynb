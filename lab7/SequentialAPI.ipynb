{
  "nbformat": 4,
  "nbformat_minor": 0,
  "metadata": {
    "colab": {
      "provenance": [],
      "include_colab_link": true
    },
    "kernelspec": {
      "name": "python3",
      "display_name": "Python 3"
    },
    "language_info": {
      "name": "python"
    },
    "accelerator": "GPU"
  },
  "cells": [
    {
      "cell_type": "markdown",
      "metadata": {
        "id": "view-in-github",
        "colab_type": "text"
      },
      "source": [
        "<a href=\"https://colab.research.google.com/github/Geek-a-Byte/ML-sessional/blob/main/lab7/SequentialAPI.ipynb\" target=\"_parent\"><img src=\"https://colab.research.google.com/assets/colab-badge.svg\" alt=\"Open In Colab\"/></a>"
      ]
    },
    {
      "cell_type": "code",
      "metadata": {
        "id": "BcBs12kEdfFC"
      },
      "source": [
        "#Importing the necessary libraries\n",
        "\n",
        "import tensorflow as tf\n",
        "import numpy as np\n",
        "import matplotlib.pyplot as plt\n",
        "from keras.models import Sequential,Model\n",
        "from keras.layers import Dense, Input"
      ],
      "execution_count": null,
      "outputs": []
    },
    {
      "cell_type": "code",
      "metadata": {
        "id": "BFko4q64FxXa"
      },
      "source": [
        "from google.colab import drive\n",
        "drive.mount('/content/drive')"
      ],
      "execution_count": null,
      "outputs": []
    },
    {
      "cell_type": "code",
      "metadata": {
        "id": "D4DDmRrUeHUb"
      },
      "source": [
        "#Preparing my layers\n",
        "input=Input(shape=2)\n",
        "layer1=Dense(units=10,activation='relu',use_bias=True,name=\"first_dense_layer\")\n",
        "layer2=Dense(units=12,activation='relu',use_bias=True)\n",
        "layer3=Dense(units=12,activation='relu',use_bias=True)\n",
        "layer4=Dense(units=1,activation='relu',use_bias=True)"
      ],
      "execution_count": null,
      "outputs": []
    },
    {
      "cell_type": "code",
      "metadata": {
        "id": "08PsXdpdfWKC",
        "colab": {
          "base_uri": "https://localhost:8080/"
        },
        "outputId": "d2cbc93a-2942-4e9c-ff55-a02c129194ee"
      },
      "source": [
        "# Let us check the weights in the layers\n",
        "print(layer1.weights)\n",
        "print(layer2.weights)\n",
        "print(layer3.weights)"
      ],
      "execution_count": null,
      "outputs": [
        {
          "output_type": "stream",
          "name": "stdout",
          "text": [
            "[]\n",
            "[]\n",
            "[]\n"
          ]
        }
      ]
    },
    {
      "cell_type": "code",
      "metadata": {
        "id": "dAsa7ep4fxLa",
        "colab": {
          "base_uri": "https://localhost:8080/"
        },
        "outputId": "d724c4b0-3168-4b39-a8e6-35a179832d4b"
      },
      "source": [
        "# Let us build the model\n",
        "model=Sequential()\n",
        "model.add(input)\n",
        "model.add(layer1)\n",
        "model.add(layer2)\n",
        "model.add(layer3)\n",
        "model.add(layer4)\n",
        "model.summary()"
      ],
      "execution_count": null,
      "outputs": [
        {
          "output_type": "stream",
          "name": "stdout",
          "text": [
            "Model: \"sequential\"\n",
            "_________________________________________________________________\n",
            " Layer (type)                Output Shape              Param #   \n",
            "=================================================================\n",
            " first_dense_layer (Dense)   (None, 10)                30        \n",
            "                                                                 \n",
            " dense (Dense)               (None, 12)                132       \n",
            "                                                                 \n",
            " dense_1 (Dense)             (None, 12)                156       \n",
            "                                                                 \n",
            " dense_2 (Dense)             (None, 1)                 13        \n",
            "                                                                 \n",
            "=================================================================\n",
            "Total params: 331\n",
            "Trainable params: 331\n",
            "Non-trainable params: 0\n",
            "_________________________________________________________________\n"
          ]
        }
      ]
    },
    {
      "cell_type": "code",
      "source": [
        "dir(model)"
      ],
      "metadata": {
        "id": "XeJ8q9SWoz8e"
      },
      "execution_count": null,
      "outputs": []
    },
    {
      "cell_type": "code",
      "source": [
        "model._name"
      ],
      "metadata": {
        "colab": {
          "base_uri": "https://localhost:8080/",
          "height": 35
        },
        "id": "1JxCdljwpGO8",
        "outputId": "0817b401-ade2-442b-bd86-439dc09444a8"
      },
      "execution_count": null,
      "outputs": [
        {
          "output_type": "execute_result",
          "data": {
            "text/plain": [
              "'sequential'"
            ],
            "application/vnd.google.colaboratory.intrinsic+json": {
              "type": "string"
            }
          },
          "metadata": {},
          "execution_count": 6
        }
      ]
    },
    {
      "cell_type": "code",
      "metadata": {
        "id": "FR92-oZXBPHK",
        "colab": {
          "base_uri": "https://localhost:8080/",
          "height": 533
        },
        "outputId": "885fe2cd-e9af-454f-96f2-be42bee3ba98"
      },
      "source": [
        "from keras.utils.vis_utils import plot_model\n",
        "plot_model(model, to_file='model_plot.png', show_shapes=True, show_layer_names=True)"
      ],
      "execution_count": null,
      "outputs": [
        {
          "output_type": "execute_result",
          "data": {
            "image/png": "[encoded data removed]",
            "text/plain": [
              "<IPython.core.display.Image object>"
            ]
          },
          "metadata": {},
          "execution_count": 7
        }
      ]
    },
    {
      "cell_type": "code",
      "metadata": {
        "id": "bIBiCLqqg4v7"
      },
      "source": [
        "# Let us check the weights again\n",
        "print(layer1.weights)\n",
        "print(layer2.weights)\n",
        "print(layer3.weights)"
      ],
      "execution_count": null,
      "outputs": []
    },
    {
      "cell_type": "code",
      "metadata": {
        "id": "WYU63fIlmStK",
        "colab": {
          "base_uri": "https://localhost:8080/",
          "height": 424
        },
        "outputId": "c8e8b87c-d7d2-41f9-d2a2-073e10686d08"
      },
      "source": [
        "import pandas\n",
        "inputDataFrame=pandas.read_csv('/content/drive/MyDrive/MIST/Classes/CSE 442 ML Sessional/Week 11 - Deep Learning/DataDeepLearning.csv')\n",
        "inputDataFrame"
      ],
      "execution_count": null,
      "outputs": [
        {
          "output_type": "execute_result",
          "data": {
            "text/plain": [
              "     x1  x2  y1=4*x1+5*x2+5  y2=10*x1+10*x2  y3=3*x1+10*x2\n",
              "0    80  58             615            1380            820\n",
              "1    19  87             516            1060            927\n",
              "2    81   4             349             850            283\n",
              "3    25  34             275             590            415\n",
              "4     8  63             352             710            654\n",
              "..   ..  ..             ...             ...            ...\n",
              "994  49   8             241             570            227\n",
              "995  23  90             547            1130            969\n",
              "996  85  23             460            1080            485\n",
              "997  42  18             263             600            306\n",
              "998  94  52             641            1460            802\n",
              "\n",
              "[999 rows x 5 columns]"
            ],
            "text/html": [
              "\n",
              "  <div id=\"df-b4f67e29-6e62-4271-9507-d17dcbb84b14\">\n",
              "    <div class=\"colab-df-container\">\n",
              "      <div>\n",
              "<style scoped>\n",
              "    .dataframe tbody tr th:only-of-type {\n",
              "        vertical-align: middle;\n",
              "    }\n",
              "\n",
              "    .dataframe tbody tr th {\n",
              "        vertical-align: top;\n",
              "    }\n",
              "\n",
              "    .dataframe thead th {\n",
              "        text-align: right;\n",
              "    }\n",
              "</style>\n",
              "<table border=\"1\" class=\"dataframe\">\n",
              "  <thead>\n",
              "    <tr style=\"text-align: right;\">\n",
              "      <th></th>\n",
              "      <th>x1</th>\n",
              "      <th>x2</th>\n",
              "      <th>y1=4*x1+5*x2+5</th>\n",
              "      <th>y2=10*x1+10*x2</th>\n",
              "      <th>y3=3*x1+10*x2</th>\n",
              "    </tr>\n",
              "  </thead>\n",
              "  <tbody>\n",
              "    <tr>\n",
              "      <th>0</th>\n",
              "      <td>80</td>\n",
              "      <td>58</td>\n",
              "      <td>615</td>\n",
              "      <td>1380</td>\n",
              "      <td>820</td>\n",
              "    </tr>\n",
              "    <tr>\n",
              "      <th>1</th>\n",
              "      <td>19</td>\n",
              "      <td>87</td>\n",
              "      <td>516</td>\n",
              "      <td>1060</td>\n",
              "      <td>927</td>\n",
              "    </tr>\n",
              "    <tr>\n",
              "      <th>2</th>\n",
              "      <td>81</td>\n",
              "      <td>4</td>\n",
              "      <td>349</td>\n",
              "      <td>850</td>\n",
              "      <td>283</td>\n",
              "    </tr>\n",
              "    <tr>\n",
              "      <th>3</th>\n",
              "      <td>25</td>\n",
              "      <td>34</td>\n",
              "      <td>275</td>\n",
              "      <td>590</td>\n",
              "      <td>415</td>\n",
              "    </tr>\n",
              "    <tr>\n",
              "      <th>4</th>\n",
              "      <td>8</td>\n",
              "      <td>63</td>\n",
              "      <td>352</td>\n",
              "      <td>710</td>\n",
              "      <td>654</td>\n",
              "    </tr>\n",
              "    <tr>\n",
              "      <th>...</th>\n",
              "      <td>...</td>\n",
              "      <td>...</td>\n",
              "      <td>...</td>\n",
              "      <td>...</td>\n",
              "      <td>...</td>\n",
              "    </tr>\n",
              "    <tr>\n",
              "      <th>994</th>\n",
              "      <td>49</td>\n",
              "      <td>8</td>\n",
              "      <td>241</td>\n",
              "      <td>570</td>\n",
              "      <td>227</td>\n",
              "    </tr>\n",
              "    <tr>\n",
              "      <th>995</th>\n",
              "      <td>23</td>\n",
              "      <td>90</td>\n",
              "      <td>547</td>\n",
              "      <td>1130</td>\n",
              "      <td>969</td>\n",
              "    </tr>\n",
              "    <tr>\n",
              "      <th>996</th>\n",
              "      <td>85</td>\n",
              "      <td>23</td>\n",
              "      <td>460</td>\n",
              "      <td>1080</td>\n",
              "      <td>485</td>\n",
              "    </tr>\n",
              "    <tr>\n",
              "      <th>997</th>\n",
              "      <td>42</td>\n",
              "      <td>18</td>\n",
              "      <td>263</td>\n",
              "      <td>600</td>\n",
              "      <td>306</td>\n",
              "    </tr>\n",
              "    <tr>\n",
              "      <th>998</th>\n",
              "      <td>94</td>\n",
              "      <td>52</td>\n",
              "      <td>641</td>\n",
              "      <td>1460</td>\n",
              "      <td>802</td>\n",
              "    </tr>\n",
              "  </tbody>\n",
              "</table>\n",
              "<p>999 rows × 5 columns</p>\n",
              "</div>\n",
              "      <button class=\"colab-df-convert\" onclick=\"convertToInteractive('df-b4f67e29-6e62-4271-9507-d17dcbb84b14')\"\n",
              "              title=\"Convert this dataframe to an interactive table.\"\n",
              "              style=\"display:none;\">\n",
              "        \n",
              "  <svg xmlns=\"http://www.w3.org/2000/svg\" height=\"24px\"viewBox=\"0 0 24 24\"\n",
              "       width=\"24px\">\n",
              "    <path d=\"M0 0h24v24H0V0z\" fill=\"none\"/>\n",
              "    <path d=\"M18.56 5.44l.94 2.06.94-2.06 2.06-.94-2.06-.94-.94-2.06-.94 2.06-2.06.94zm-11 1L8.5 8.5l.94-2.06 2.06-.94-2.06-.94L8.5 2.5l-.94 2.06-2.06.94zm10 10l.94 2.06.94-2.06 2.06-.94-2.06-.94-.94-2.06-.94 2.06-2.06.94z\"/><path d=\"M17.41 7.96l-1.37-1.37c-.4-.4-.92-.59-1.43-.59-.52 0-1.04.2-1.43.59L10.3 9.45l-7.72 7.72c-.78.78-.78 2.05 0 2.83L4 21.41c.39.39.9.59 1.41.59.51 0 1.02-.2 1.41-.59l7.78-7.78 2.81-2.81c.8-.78.8-2.07 0-2.86zM5.41 20L4 18.59l7.72-7.72 1.47 1.35L5.41 20z\"/>\n",
              "  </svg>\n",
              "      </button>\n",
              "      \n",
              "  <style>\n",
              "    .colab-df-container {\n",
              "      display:flex;\n",
              "      flex-wrap:wrap;\n",
              "      gap: 12px;\n",
              "    }\n",
              "\n",
              "    .colab-df-convert {\n",
              "      background-color: #E8F0FE;\n",
              "      border: none;\n",
              "      border-radius: 50%;\n",
              "      cursor: pointer;\n",
              "      display: none;\n",
              "      fill: #1967D2;\n",
              "      height: 32px;\n",
              "      padding: 0 0 0 0;\n",
              "      width: 32px;\n",
              "    }\n",
              "\n",
              "    .colab-df-convert:hover {\n",
              "      background-color: #E2EBFA;\n",
              "      box-shadow: 0px 1px 2px rgba(60, 64, 67, 0.3), 0px 1px 3px 1px rgba(60, 64, 67, 0.15);\n",
              "      fill: #174EA6;\n",
              "    }\n",
              "\n",
              "    [theme=dark] .colab-df-convert {\n",
              "      background-color: #3B4455;\n",
              "      fill: #D2E3FC;\n",
              "    }\n",
              "\n",
              "    [theme=dark] .colab-df-convert:hover {\n",
              "      background-color: #434B5C;\n",
              "      box-shadow: 0px 1px 3px 1px rgba(0, 0, 0, 0.15);\n",
              "      filter: drop-shadow(0px 1px 2px rgba(0, 0, 0, 0.3));\n",
              "      fill: #FFFFFF;\n",
              "    }\n",
              "  </style>\n",
              "\n",
              "      <script>\n",
              "        const buttonEl =\n",
              "          document.querySelector('#df-b4f67e29-6e62-4271-9507-d17dcbb84b14 button.colab-df-convert');\n",
              "        buttonEl.style.display =\n",
              "          google.colab.kernel.accessAllowed ? 'block' : 'none';\n",
              "\n",
              "        async function convertToInteractive(key) {\n",
              "          const element = document.querySelector('#df-b4f67e29-6e62-4271-9507-d17dcbb84b14');\n",
              "          const dataTable =\n",
              "            await google.colab.kernel.invokeFunction('convertToInteractive',\n",
              "                                                     [key], {});\n",
              "          if (!dataTable) return;\n",
              "\n",
              "          const docLinkHtml = 'Like what you see? Visit the ' +\n",
              "            '<a target=\"_blank\" href=https://colab.research.google.com/notebooks/data_table.ipynb>data table notebook</a>'\n",
              "            + ' to learn more about interactive tables.';\n",
              "          element.innerHTML = '';\n",
              "          dataTable['output_type'] = 'display_data';\n",
              "          await google.colab.output.renderOutput(dataTable, element);\n",
              "          const docLink = document.createElement('div');\n",
              "          docLink.innerHTML = docLinkHtml;\n",
              "          element.appendChild(docLink);\n",
              "        }\n",
              "      </script>\n",
              "    </div>\n",
              "  </div>\n",
              "  "
            ]
          },
          "metadata": {},
          "execution_count": 9
        }
      ]
    },
    {
      "cell_type": "code",
      "metadata": {
        "id": "3-7l4N6ym3VT"
      },
      "source": [
        "x1s=inputDataFrame['x1'].to_numpy()\n",
        "x2s=inputDataFrame['x2'].to_numpy()\n",
        "y1s=inputDataFrame['y1=4*x1+5*x2+5'].to_numpy()\n",
        "y2s=inputDataFrame['y2=10*x1+10*x2'].to_numpy()\n",
        "y3s=inputDataFrame['y3=3*x1+10*x2'].to_numpy()"
      ],
      "execution_count": null,
      "outputs": []
    },
    {
      "cell_type": "code",
      "metadata": {
        "colab": {
          "base_uri": "https://localhost:8080/"
        },
        "id": "FeZAy4JXs6yB",
        "outputId": "f1d98c34-24a4-4ebb-cb3a-ff1278cccfc1"
      },
      "source": [
        "x1s.shape"
      ],
      "execution_count": null,
      "outputs": [
        {
          "output_type": "execute_result",
          "data": {
            "text/plain": [
              "(999,)"
            ]
          },
          "metadata": {},
          "execution_count": 11
        }
      ]
    },
    {
      "cell_type": "code",
      "metadata": {
        "id": "SEoVhFlgrekp"
      },
      "source": [
        "x1s=x1s.reshape(x1s.shape[0],1)\n",
        "x2s=x2s.reshape(x2s.shape[0],1)"
      ],
      "execution_count": null,
      "outputs": []
    },
    {
      "cell_type": "code",
      "metadata": {
        "colab": {
          "base_uri": "https://localhost:8080/"
        },
        "id": "8Z526GsZtH56",
        "outputId": "d9418863-b642-4884-a0d9-5847dac4a37e"
      },
      "source": [
        "x1s.shape"
      ],
      "execution_count": null,
      "outputs": [
        {
          "output_type": "execute_result",
          "data": {
            "text/plain": [
              "(999, 1)"
            ]
          },
          "metadata": {},
          "execution_count": 13
        }
      ]
    },
    {
      "cell_type": "code",
      "metadata": {
        "id": "0iDnBOHcrL0R"
      },
      "source": [
        "x=np.concatenate((x1s,x2s),axis=0)"
      ],
      "execution_count": null,
      "outputs": []
    },
    {
      "cell_type": "code",
      "metadata": {
        "id": "axq2XWV_rY-p",
        "colab": {
          "base_uri": "https://localhost:8080/"
        },
        "outputId": "ab4db085-16a8-48b9-993c-b1e428ae16b8"
      },
      "source": [
        "print(x)"
      ],
      "execution_count": null,
      "outputs": [
        {
          "output_type": "stream",
          "name": "stdout",
          "text": [
            "[[80]\n",
            " [19]\n",
            " [81]\n",
            " ...\n",
            " [23]\n",
            " [18]\n",
            " [52]]\n"
          ]
        }
      ]
    },
    {
      "cell_type": "code",
      "metadata": {
        "colab": {
          "base_uri": "https://localhost:8080/"
        },
        "id": "UrFfdfgEuO3h",
        "outputId": "42c39df9-3139-4f67-fa6a-51d09e38c808"
      },
      "source": [
        "x.shape"
      ],
      "execution_count": null,
      "outputs": [
        {
          "output_type": "execute_result",
          "data": {
            "text/plain": [
              "(999, 2)"
            ]
          },
          "metadata": {},
          "execution_count": 21
        }
      ]
    },
    {
      "cell_type": "code",
      "metadata": {
        "id": "5I8vAnbAnWtD"
      },
      "source": [
        "print(x1s)\n",
        "print(x2s)\n",
        "print(y1s)\n",
        "print(y2s)\n",
        "print(y3s)"
      ],
      "execution_count": null,
      "outputs": []
    },
    {
      "cell_type": "code",
      "metadata": {
        "id": "kO2GIVpDnvyK",
        "colab": {
          "base_uri": "https://localhost:8080/"
        },
        "outputId": "a663f95c-6b72-4e71-fe0e-3d39fda365c3"
      },
      "source": [
        "import sklearn\n",
        "from sklearn.model_selection import train_test_split\n",
        "xTrain, xTest, y1sTrain, y1sTest, y2sTrain, y2sTest, y3sTrain, y3sTest = train_test_split(x, y1s,y2s,y3s, test_size=0.20, random_state=42)\n",
        "print(f'x={xTrain[0]},y1={y1sTrain[0]},y2={y2sTrain[0]},y3={y3sTrain[1]}')\n"
      ],
      "execution_count": null,
      "outputs": [
        {
          "output_type": "stream",
          "name": "stdout",
          "text": [
            "x=[36 65],y1=474,y2=1010,y3=510\n"
          ]
        }
      ]
    },
    {
      "cell_type": "code",
      "metadata": {
        "id": "IgmpubyRp8jK"
      },
      "source": [
        "# configure the training\n",
        "model.compile(loss='mse',metrics=['mae','mse'],optimizer=tf.optimizers.Adam(learning_rate=0.01))"
      ],
      "execution_count": null,
      "outputs": []
    },
    {
      "cell_type": "code",
      "metadata": {
        "id": "EwBYOK1jp_zx",
        "colab": {
          "base_uri": "https://localhost:8080/"
        },
        "outputId": "d32de702-c11e-42f6-cb7e-b16d09c35b49"
      },
      "source": [
        "# train the model. just run a few epochs for this test run. you can adjust later.\n",
        "model.fit(x=xTrain,y=y1sTrain,validation_data=(xTest, y1sTest),batch_size=16, epochs=10)"
      ],
      "execution_count": null,
      "outputs": [
        {
          "output_type": "stream",
          "name": "stdout",
          "text": [
            "Epoch 1/10\n",
            "50/50 [==============================] - 1s 7ms/step - loss: 243605.2500 - mae: 457.4318 - mse: 243605.2500 - val_loss: 239270.6406 - val_mae: 459.6850 - val_mse: 239270.6406\n",
            "Epoch 2/10\n",
            "50/50 [==============================] - 0s 4ms/step - loss: 243605.2656 - mae: 457.4318 - mse: 243605.2656 - val_loss: 239270.6406 - val_mae: 459.6850 - val_mse: 239270.6406\n",
            "Epoch 3/10\n",
            "50/50 [==============================] - 0s 4ms/step - loss: 243605.2188 - mae: 457.4318 - mse: 243605.2188 - val_loss: 239270.6406 - val_mae: 459.6850 - val_mse: 239270.6406\n",
            "Epoch 4/10\n",
            "50/50 [==============================] - 0s 5ms/step - loss: 243605.2656 - mae: 457.4318 - mse: 243605.2656 - val_loss: 239270.6406 - val_mae: 459.6850 - val_mse: 239270.6406\n",
            "Epoch 5/10\n",
            "50/50 [==============================] - 0s 4ms/step - loss: 243605.2656 - mae: 457.4318 - mse: 243605.2656 - val_loss: 239270.6406 - val_mae: 459.6850 - val_mse: 239270.6406\n",
            "Epoch 6/10\n",
            "50/50 [==============================] - 0s 4ms/step - loss: 243605.2656 - mae: 457.4318 - mse: 243605.2656 - val_loss: 239270.6406 - val_mae: 459.6850 - val_mse: 239270.6406\n",
            "Epoch 7/10\n",
            "50/50 [==============================] - 0s 4ms/step - loss: 243605.2500 - mae: 457.4318 - mse: 243605.2500 - val_loss: 239270.6406 - val_mae: 459.6850 - val_mse: 239270.6406\n",
            "Epoch 8/10\n",
            "50/50 [==============================] - 0s 5ms/step - loss: 243605.2812 - mae: 457.4318 - mse: 243605.2812 - val_loss: 239270.6406 - val_mae: 459.6850 - val_mse: 239270.6406\n",
            "Epoch 9/10\n",
            "50/50 [==============================] - 0s 4ms/step - loss: 243605.2812 - mae: 457.4318 - mse: 243605.2812 - val_loss: 239270.6406 - val_mae: 459.6850 - val_mse: 239270.6406\n",
            "Epoch 10/10\n",
            "50/50 [==============================] - 0s 4ms/step - loss: 243605.2812 - mae: 457.4318 - mse: 243605.2812 - val_loss: 239270.6406 - val_mae: 459.6850 - val_mse: 239270.6406\n"
          ]
        },
        {
          "output_type": "execute_result",
          "data": {
            "text/plain": [
              "<keras.callbacks.History at 0x7f7404ab1650>"
            ]
          },
          "metadata": {},
          "execution_count": 28
        }
      ]
    },
    {
      "cell_type": "code",
      "metadata": {
        "id": "5x-yUopg_C6K",
        "colab": {
          "base_uri": "https://localhost:8080/"
        },
        "outputId": "7e6cc44d-c01c-49dd-b6a6-b9a2782effbc"
      },
      "source": [
        "y1sTest[60]"
      ],
      "execution_count": null,
      "outputs": [
        {
          "output_type": "execute_result",
          "data": {
            "text/plain": [
              "697"
            ]
          },
          "metadata": {},
          "execution_count": 29
        }
      ]
    },
    {
      "cell_type": "code",
      "metadata": {
        "id": "5tX8ZzCL_dmC",
        "colab": {
          "base_uri": "https://localhost:8080/"
        },
        "outputId": "46c6988d-7094-424a-fb37-6cb86fd52ad6"
      },
      "source": [
        "xTest[60].shape"
      ],
      "execution_count": null,
      "outputs": [
        {
          "output_type": "execute_result",
          "data": {
            "text/plain": [
              "(2,)"
            ]
          },
          "metadata": {},
          "execution_count": 30
        }
      ]
    },
    {
      "cell_type": "code",
      "metadata": {
        "id": "dn--Hd-N_gW6"
      },
      "source": [
        "input=xTest[60].reshape(1,2)"
      ],
      "execution_count": null,
      "outputs": []
    },
    {
      "cell_type": "code",
      "source": [
        "input"
      ],
      "metadata": {
        "colab": {
          "base_uri": "https://localhost:8080/"
        },
        "id": "WvBKLw3SKuPS",
        "outputId": "e981c5d5-43a0-4e68-d688-117c9595556e"
      },
      "execution_count": null,
      "outputs": [
        {
          "output_type": "execute_result",
          "data": {
            "text/plain": [
              "array([[68, 84]])"
            ]
          },
          "metadata": {},
          "execution_count": 32
        }
      ]
    },
    {
      "cell_type": "code",
      "metadata": {
        "colab": {
          "base_uri": "https://localhost:8080/"
        },
        "id": "ap_umJlYx_i7",
        "outputId": "9f624cfb-b062-4e3e-bf99-44f591dfecba"
      },
      "source": [
        "input.shape"
      ],
      "execution_count": null,
      "outputs": [
        {
          "output_type": "execute_result",
          "data": {
            "text/plain": [
              "(1, 2)"
            ]
          },
          "metadata": {},
          "execution_count": 33
        }
      ]
    },
    {
      "cell_type": "code",
      "metadata": {
        "id": "UxkW6ciN_NKq",
        "colab": {
          "base_uri": "https://localhost:8080/"
        },
        "outputId": "f2708d88-9a18-41cb-8394-3587bc6436cb"
      },
      "source": [
        "y1Pred=model.predict(input)"
      ],
      "execution_count": null,
      "outputs": [
        {
          "output_type": "stream",
          "name": "stdout",
          "text": [
            "1/1 [==============================] - 0s 74ms/step\n"
          ]
        }
      ]
    },
    {
      "cell_type": "code",
      "metadata": {
        "id": "_NpAypdv_puq",
        "colab": {
          "base_uri": "https://localhost:8080/"
        },
        "outputId": "0ffbf8d2-0f94-49ef-84bb-ca3ec351b93c"
      },
      "source": [
        "y1Pred"
      ],
      "execution_count": null,
      "outputs": [
        {
          "output_type": "execute_result",
          "data": {
            "text/plain": [
              "array([[0.]], dtype=float32)"
            ]
          },
          "metadata": {},
          "execution_count": 35
        }
      ]
    }
  ]
}