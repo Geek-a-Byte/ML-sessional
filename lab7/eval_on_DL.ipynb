{
  "nbformat": 4,
  "nbformat_minor": 0,
  "metadata": {
    "colab": {
      "provenance": [],
      "collapsed_sections": [
        "s3QN51BTgqPH"
      ],
      "authorship_tag": "ABX9TyMJzAl4LEHueweulDdJr615",
      "include_colab_link": true
    },
    "kernelspec": {
      "name": "python3",
      "display_name": "Python 3"
    },
    "language_info": {
      "name": "python"
    }
  },
  "cells": [
    {
      "cell_type": "markdown",
      "metadata": {
        "id": "view-in-github",
        "colab_type": "text"
      },
      "source": [
        "<a href=\"https://colab.research.google.com/github/Geek-a-Byte/ML-sessional/blob/main/lab7/eval_on_DL.ipynb\" target=\"_parent\"><img src=\"https://colab.research.google.com/assets/colab-badge.svg\" alt=\"Open In Colab\"/></a>"
      ]
    },
    {
      "cell_type": "markdown",
      "source": [
        "# 1st"
      ],
      "metadata": {
        "id": "s3QN51BTgqPH"
      }
    },
    {
      "cell_type": "code",
      "execution_count": null,
      "metadata": {
        "id": "1xjI8KamZweL"
      },
      "outputs": [],
      "source": [
        "#Importing the necessary libraries\n",
        "\n",
        "import tensorflow as tf\n",
        "import numpy as np\n",
        "import matplotlib.pyplot as plt\n",
        "from keras.models import Sequential,Model\n",
        "from keras.layers import Dense, Input"
      ]
    },
    {
      "cell_type": "code",
      "source": [
        "from google.colab import drive\n",
        "drive.mount('/content/drive')"
      ],
      "metadata": {
        "colab": {
          "base_uri": "https://localhost:8080/"
        },
        "id": "cW79PtQwaXWk",
        "outputId": "8693fdf9-bb6f-40d3-b97b-3f0edc7a1d4b"
      },
      "execution_count": null,
      "outputs": [
        {
          "output_type": "stream",
          "name": "stdout",
          "text": [
            "Mounted at /content/drive\n"
          ]
        }
      ]
    },
    {
      "cell_type": "code",
      "source": [
        "import pandas\n",
        "inputDataFrame=pandas.read_csv('/content/drive/MyDrive/CSE 442/Dataset Section A1 Evaluation_The Egyptian Mummy - Sheet1.csv')\n",
        "inputDataFrame"
      ],
      "metadata": {
        "colab": {
          "base_uri": "https://localhost:8080/"
        },
        "id": "Ox_bJ9d5aijR",
        "outputId": "a7f9ae43-c6b4-4c38-83f4-a2520f3178ab"
      },
      "execution_count": null,
      "outputs": [
        {
          "output_type": "execute_result",
          "data": {
            "text/plain": [
              "     gold   age  iron  silver  inEgypt  isAKing  real_price  \\\n",
              "0      77  6162   582    2723        1        0    17771.50   \n",
              "1      66  5245   902    1822        1        1    14187.25   \n",
              "2      60  5369   806     209        0        0     5405.25   \n",
              "3      37  6453   745    2802        0        1    18528.25   \n",
              "4      56  6447   769    2273        0        0    15843.75   \n",
              "..    ...   ...   ...     ...      ...      ...         ...   \n",
              "993     1  6198   987     659        0        0     7815.50   \n",
              "994    41  6592   545    2896        1        0    18273.00   \n",
              "995    57  6299   971     772        1        1     9317.75   \n",
              "996    10  5996   797    1823        0        1    13405.00   \n",
              "997    79  5160   896    1452        1        0    12128.00   \n",
              "\n",
              "     black_market_price  \n",
              "0              45731626  \n",
              "1              31654669  \n",
              "2              29523078  \n",
              "3              50053807  \n",
              "4              47324835  \n",
              "..                  ...  \n",
              "993            39823655  \n",
              "994            52141986  \n",
              "995            41226475  \n",
              "996            39915654  \n",
              "997            29544961  \n",
              "\n",
              "[998 rows x 8 columns]"
            ],
            "text/html": [
              "\n",
              "  <div id=\"df-38ef3223-76ac-4cad-b55d-275baa4db201\">\n",
              "    <div class=\"colab-df-container\">\n",
              "      <div>\n",
              "<style scoped>\n",
              "    .dataframe tbody tr th:only-of-type {\n",
              "        vertical-align: middle;\n",
              "    }\n",
              "\n",
              "    .dataframe tbody tr th {\n",
              "        vertical-align: top;\n",
              "    }\n",
              "\n",
              "    .dataframe thead th {\n",
              "        text-align: right;\n",
              "    }\n",
              "</style>\n",
              "<table border=\"1\" class=\"dataframe\">\n",
              "  <thead>\n",
              "    <tr style=\"text-align: right;\">\n",
              "      <th></th>\n",
              "      <th>gold</th>\n",
              "      <th>age</th>\n",
              "      <th>iron</th>\n",
              "      <th>silver</th>\n",
              "      <th>inEgypt</th>\n",
              "      <th>isAKing</th>\n",
              "      <th>real_price</th>\n",
              "      <th>black_market_price</th>\n",
              "    </tr>\n",
              "  </thead>\n",
              "  <tbody>\n",
              "    <tr>\n",
              "      <th>0</th>\n",
              "      <td>77</td>\n",
              "      <td>6162</td>\n",
              "      <td>582</td>\n",
              "      <td>2723</td>\n",
              "      <td>1</td>\n",
              "      <td>0</td>\n",
              "      <td>17771.50</td>\n",
              "      <td>45731626</td>\n",
              "    </tr>\n",
              "    <tr>\n",
              "      <th>1</th>\n",
              "      <td>66</td>\n",
              "      <td>5245</td>\n",
              "      <td>902</td>\n",
              "      <td>1822</td>\n",
              "      <td>1</td>\n",
              "      <td>1</td>\n",
              "      <td>14187.25</td>\n",
              "      <td>31654669</td>\n",
              "    </tr>\n",
              "    <tr>\n",
              "      <th>2</th>\n",
              "      <td>60</td>\n",
              "      <td>5369</td>\n",
              "      <td>806</td>\n",
              "      <td>209</td>\n",
              "      <td>0</td>\n",
              "      <td>0</td>\n",
              "      <td>5405.25</td>\n",
              "      <td>29523078</td>\n",
              "    </tr>\n",
              "    <tr>\n",
              "      <th>3</th>\n",
              "      <td>37</td>\n",
              "      <td>6453</td>\n",
              "      <td>745</td>\n",
              "      <td>2802</td>\n",
              "      <td>0</td>\n",
              "      <td>1</td>\n",
              "      <td>18528.25</td>\n",
              "      <td>50053807</td>\n",
              "    </tr>\n",
              "    <tr>\n",
              "      <th>4</th>\n",
              "      <td>56</td>\n",
              "      <td>6447</td>\n",
              "      <td>769</td>\n",
              "      <td>2273</td>\n",
              "      <td>0</td>\n",
              "      <td>0</td>\n",
              "      <td>15843.75</td>\n",
              "      <td>47324835</td>\n",
              "    </tr>\n",
              "    <tr>\n",
              "      <th>...</th>\n",
              "      <td>...</td>\n",
              "      <td>...</td>\n",
              "      <td>...</td>\n",
              "      <td>...</td>\n",
              "      <td>...</td>\n",
              "      <td>...</td>\n",
              "      <td>...</td>\n",
              "      <td>...</td>\n",
              "    </tr>\n",
              "    <tr>\n",
              "      <th>993</th>\n",
              "      <td>1</td>\n",
              "      <td>6198</td>\n",
              "      <td>987</td>\n",
              "      <td>659</td>\n",
              "      <td>0</td>\n",
              "      <td>0</td>\n",
              "      <td>7815.50</td>\n",
              "      <td>39823655</td>\n",
              "    </tr>\n",
              "    <tr>\n",
              "      <th>994</th>\n",
              "      <td>41</td>\n",
              "      <td>6592</td>\n",
              "      <td>545</td>\n",
              "      <td>2896</td>\n",
              "      <td>1</td>\n",
              "      <td>0</td>\n",
              "      <td>18273.00</td>\n",
              "      <td>52141986</td>\n",
              "    </tr>\n",
              "    <tr>\n",
              "      <th>995</th>\n",
              "      <td>57</td>\n",
              "      <td>6299</td>\n",
              "      <td>971</td>\n",
              "      <td>772</td>\n",
              "      <td>1</td>\n",
              "      <td>1</td>\n",
              "      <td>9317.75</td>\n",
              "      <td>41226475</td>\n",
              "    </tr>\n",
              "    <tr>\n",
              "      <th>996</th>\n",
              "      <td>10</td>\n",
              "      <td>5996</td>\n",
              "      <td>797</td>\n",
              "      <td>1823</td>\n",
              "      <td>0</td>\n",
              "      <td>1</td>\n",
              "      <td>13405.00</td>\n",
              "      <td>39915654</td>\n",
              "    </tr>\n",
              "    <tr>\n",
              "      <th>997</th>\n",
              "      <td>79</td>\n",
              "      <td>5160</td>\n",
              "      <td>896</td>\n",
              "      <td>1452</td>\n",
              "      <td>1</td>\n",
              "      <td>0</td>\n",
              "      <td>12128.00</td>\n",
              "      <td>29544961</td>\n",
              "    </tr>\n",
              "  </tbody>\n",
              "</table>\n",
              "<p>998 rows × 8 columns</p>\n",
              "</div>\n",
              "      <button class=\"colab-df-convert\" onclick=\"convertToInteractive('df-38ef3223-76ac-4cad-b55d-275baa4db201')\"\n",
              "              title=\"Convert this dataframe to an interactive table.\"\n",
              "              style=\"display:none;\">\n",
              "        \n",
              "  <svg xmlns=\"http://www.w3.org/2000/svg\" height=\"24px\"viewBox=\"0 0 24 24\"\n",
              "       width=\"24px\">\n",
              "    <path d=\"M0 0h24v24H0V0z\" fill=\"none\"/>\n",
              "    <path d=\"M18.56 5.44l.94 2.06.94-2.06 2.06-.94-2.06-.94-.94-2.06-.94 2.06-2.06.94zm-11 1L8.5 8.5l.94-2.06 2.06-.94-2.06-.94L8.5 2.5l-.94 2.06-2.06.94zm10 10l.94 2.06.94-2.06 2.06-.94-2.06-.94-.94-2.06-.94 2.06-2.06.94z\"/><path d=\"M17.41 7.96l-1.37-1.37c-.4-.4-.92-.59-1.43-.59-.52 0-1.04.2-1.43.59L10.3 9.45l-7.72 7.72c-.78.78-.78 2.05 0 2.83L4 21.41c.39.39.9.59 1.41.59.51 0 1.02-.2 1.41-.59l7.78-7.78 2.81-2.81c.8-.78.8-2.07 0-2.86zM5.41 20L4 18.59l7.72-7.72 1.47 1.35L5.41 20z\"/>\n",
              "  </svg>\n",
              "      </button>\n",
              "      \n",
              "  <style>\n",
              "    .colab-df-container {\n",
              "      display:flex;\n",
              "      flex-wrap:wrap;\n",
              "      gap: 12px;\n",
              "    }\n",
              "\n",
              "    .colab-df-convert {\n",
              "      background-color: #E8F0FE;\n",
              "      border: none;\n",
              "      border-radius: 50%;\n",
              "      cursor: pointer;\n",
              "      display: none;\n",
              "      fill: #1967D2;\n",
              "      height: 32px;\n",
              "      padding: 0 0 0 0;\n",
              "      width: 32px;\n",
              "    }\n",
              "\n",
              "    .colab-df-convert:hover {\n",
              "      background-color: #E2EBFA;\n",
              "      box-shadow: 0px 1px 2px rgba(60, 64, 67, 0.3), 0px 1px 3px 1px rgba(60, 64, 67, 0.15);\n",
              "      fill: #174EA6;\n",
              "    }\n",
              "\n",
              "    [theme=dark] .colab-df-convert {\n",
              "      background-color: #3B4455;\n",
              "      fill: #D2E3FC;\n",
              "    }\n",
              "\n",
              "    [theme=dark] .colab-df-convert:hover {\n",
              "      background-color: #434B5C;\n",
              "      box-shadow: 0px 1px 3px 1px rgba(0, 0, 0, 0.15);\n",
              "      filter: drop-shadow(0px 1px 2px rgba(0, 0, 0, 0.3));\n",
              "      fill: #FFFFFF;\n",
              "    }\n",
              "  </style>\n",
              "\n",
              "      <script>\n",
              "        const buttonEl =\n",
              "          document.querySelector('#df-38ef3223-76ac-4cad-b55d-275baa4db201 button.colab-df-convert');\n",
              "        buttonEl.style.display =\n",
              "          google.colab.kernel.accessAllowed ? 'block' : 'none';\n",
              "\n",
              "        async function convertToInteractive(key) {\n",
              "          const element = document.querySelector('#df-38ef3223-76ac-4cad-b55d-275baa4db201');\n",
              "          const dataTable =\n",
              "            await google.colab.kernel.invokeFunction('convertToInteractive',\n",
              "                                                     [key], {});\n",
              "          if (!dataTable) return;\n",
              "\n",
              "          const docLinkHtml = 'Like what you see? Visit the ' +\n",
              "            '<a target=\"_blank\" href=https://colab.research.google.com/notebooks/data_table.ipynb>data table notebook</a>'\n",
              "            + ' to learn more about interactive tables.';\n",
              "          element.innerHTML = '';\n",
              "          dataTable['output_type'] = 'display_data';\n",
              "          await google.colab.output.renderOutput(dataTable, element);\n",
              "          const docLink = document.createElement('div');\n",
              "          docLink.innerHTML = docLinkHtml;\n",
              "          element.appendChild(docLink);\n",
              "        }\n",
              "      </script>\n",
              "    </div>\n",
              "  </div>\n",
              "  "
            ]
          },
          "metadata": {},
          "execution_count": 5
        }
      ]
    },
    {
      "cell_type": "markdown",
      "source": [
        "# 2nd"
      ],
      "metadata": {
        "id": "9aHh4j30gvLh"
      }
    },
    {
      "cell_type": "code",
      "source": [
        "# importing the classes for building the neural network layers\n",
        "from keras.layers import Dense,Input"
      ],
      "metadata": {
        "id": "whrNJSKca-U0"
      },
      "execution_count": null,
      "outputs": []
    },
    {
      "cell_type": "code",
      "source": [
        "#Preparing my layers\n",
        "input=Input(shape=6)\n",
        "layer1=Dense(units=1,activation='relu',use_bias=True,name=\"first_dense_layer\")\n"
      ],
      "metadata": {
        "id": "jxvGQ3RBbBoA"
      },
      "execution_count": null,
      "outputs": []
    },
    {
      "cell_type": "code",
      "source": [
        "# Let us check the weights in the layers\n",
        "print(layer1.weights)\n"
      ],
      "metadata": {
        "colab": {
          "base_uri": "https://localhost:8080/"
        },
        "id": "7i9ZOpEHbBik",
        "outputId": "f4444fdd-40fe-48c5-c4d0-caa97b53c772"
      },
      "execution_count": null,
      "outputs": [
        {
          "output_type": "stream",
          "name": "stdout",
          "text": [
            "[]\n"
          ]
        }
      ]
    },
    {
      "cell_type": "code",
      "source": [
        "# Let us build the model\n",
        "model=Sequential()\n",
        "model.add(input)\n",
        "model.add(layer1)\n",
        "model.summary()"
      ],
      "metadata": {
        "colab": {
          "base_uri": "https://localhost:8080/"
        },
        "id": "VGmbh-hmbv1K",
        "outputId": "3920b1d7-c5cc-4f84-d608-50940df5ee29"
      },
      "execution_count": null,
      "outputs": [
        {
          "output_type": "stream",
          "name": "stdout",
          "text": [
            "Model: \"sequential_3\"\n",
            "_________________________________________________________________\n",
            " Layer (type)                Output Shape              Param #   \n",
            "=================================================================\n",
            " first_dense_layer (Dense)   (None, 1)                 7         \n",
            "                                                                 \n",
            "=================================================================\n",
            "Total params: 7\n",
            "Trainable params: 7\n",
            "Non-trainable params: 0\n",
            "_________________________________________________________________\n"
          ]
        }
      ]
    },
    {
      "cell_type": "code",
      "source": [
        "dir(model)"
      ],
      "metadata": {
        "id": "zIjxC1Ibb1YD"
      },
      "execution_count": null,
      "outputs": []
    },
    {
      "cell_type": "code",
      "source": [
        "model._name"
      ],
      "metadata": {
        "colab": {
          "base_uri": "https://localhost:8080/",
          "height": 35
        },
        "id": "3pVGF_Orb3im",
        "outputId": "930dfa46-cc63-4e74-f4a3-fd0fd7881af6"
      },
      "execution_count": null,
      "outputs": [
        {
          "output_type": "execute_result",
          "data": {
            "text/plain": [
              "'sequential_2'"
            ],
            "application/vnd.google.colaboratory.intrinsic+json": {
              "type": "string"
            }
          },
          "metadata": {},
          "execution_count": 19
        }
      ]
    },
    {
      "cell_type": "code",
      "source": [
        "from keras.utils.vis_utils import plot_model\n",
        "plot_model(model, to_file='model_plot.png', show_shapes=True, show_layer_names=True)"
      ],
      "metadata": {
        "colab": {
          "base_uri": "https://localhost:8080/",
          "height": 201
        },
        "id": "yeJSwNqYb8JK",
        "outputId": "4ad5f9de-02da-41bb-91f2-15c1b39ddbab"
      },
      "execution_count": null,
      "outputs": [
        {
          "output_type": "execute_result",
          "data": {
            "image/png": "[encoded data removed]",
            "text/plain": [
              "<IPython.core.display.Image object>"
            ]
          },
          "metadata": {},
          "execution_count": 24
        }
      ]
    },
    {
      "cell_type": "code",
      "source": [
        "# Let us check the weights again\n",
        "print(layer1.weights)\n"
      ],
      "metadata": {
        "colab": {
          "base_uri": "https://localhost:8080/"
        },
        "id": "s3G2xSwycjk0",
        "outputId": "f2a0409e-fb98-4434-c6a6-468a4a53df7d"
      },
      "execution_count": null,
      "outputs": [
        {
          "output_type": "stream",
          "name": "stdout",
          "text": [
            "[<tf.Variable 'first_dense_layer/kernel:0' shape=(6, 1) dtype=float32, numpy=\n",
            "array([[ 0.47194636],\n",
            "       [ 0.15249586],\n",
            "       [-0.6445307 ],\n",
            "       [-0.7717182 ],\n",
            "       [-0.29558206],\n",
            "       [ 0.04362321]], dtype=float32)>, <tf.Variable 'first_dense_layer/bias:0' shape=(1,) dtype=float32, numpy=array([0.], dtype=float32)>]\n"
          ]
        }
      ]
    },
    {
      "cell_type": "code",
      "source": [
        "x1s=inputDataFrame['gold'].to_numpy()\n",
        "x2s=inputDataFrame['age'].to_numpy()\n",
        "x3s=inputDataFrame['iron'].to_numpy()\n",
        "x4s=inputDataFrame['silver'].to_numpy()\n",
        "x5s=inputDataFrame['inEgypt'].to_numpy()\n",
        "x6s=inputDataFrame['isAKing'].to_numpy()\n",
        "y1s=inputDataFrame['real_price'].to_numpy()\n",
        "# gold\tage\tiron\tsilver\tinEgypt\tisAKing\treal_price\tblack_market_price"
      ],
      "metadata": {
        "id": "Rd4OnnzBcu4J"
      },
      "execution_count": null,
      "outputs": []
    },
    {
      "cell_type": "code",
      "source": [
        "x1s.shape"
      ],
      "metadata": {
        "colab": {
          "base_uri": "https://localhost:8080/"
        },
        "id": "BJOIUvbZdK_H",
        "outputId": "1a16ca5b-65e9-4b79-a727-33de3689efc4"
      },
      "execution_count": null,
      "outputs": [
        {
          "output_type": "execute_result",
          "data": {
            "text/plain": [
              "(998,)"
            ]
          },
          "metadata": {},
          "execution_count": 27
        }
      ]
    },
    {
      "cell_type": "code",
      "source": [
        "x1s=x1s.reshape(x1s.shape[0],1)\n",
        "x2s=x2s.reshape(x2s.shape[0],1)\n",
        "x3s=x3s.reshape(x3s.shape[0],1)\n",
        "x4s=x4s.reshape(x4s.shape[0],1)\n",
        "x5s=x5s.reshape(x5s.shape[0],1)\n",
        "x6s=x6s.reshape(x6s.shape[0],1)"
      ],
      "metadata": {
        "id": "89CM95lkdOJg"
      },
      "execution_count": null,
      "outputs": []
    },
    {
      "cell_type": "code",
      "source": [
        "x=np.concatenate((x1s,x2s,x3s,x4s,x5s,x6s),axis=1)"
      ],
      "metadata": {
        "id": "Ke11aUcifTNf"
      },
      "execution_count": null,
      "outputs": []
    },
    {
      "cell_type": "code",
      "source": [
        "x.shape"
      ],
      "metadata": {
        "colab": {
          "base_uri": "https://localhost:8080/"
        },
        "id": "6ufLybOFfea3",
        "outputId": "686ecd9d-c81a-4047-e8fe-8dd6159e5150"
      },
      "execution_count": null,
      "outputs": [
        {
          "output_type": "execute_result",
          "data": {
            "text/plain": [
              "(998, 6)"
            ]
          },
          "metadata": {},
          "execution_count": 46
        }
      ]
    },
    {
      "cell_type": "code",
      "source": [
        "import sklearn\n",
        "from sklearn.model_selection import train_test_split\n",
        "xTrain, xTest, y1sTrain, y1sTest = train_test_split(x, y1s, test_size=0.20, random_state=42)\n",
        "print(f'x={xTrain[0]},y1={y1sTrain[0]}')"
      ],
      "metadata": {
        "colab": {
          "base_uri": "https://localhost:8080/"
        },
        "id": "xFCDiBpBdudX",
        "outputId": "aa1eeb5e-4a5a-411a-e901-6349bb761376"
      },
      "execution_count": null,
      "outputs": [
        {
          "output_type": "stream",
          "name": "stdout",
          "text": [
            "x=[   6 5370  597 1824    1    0],y1=12413.5\n"
          ]
        }
      ]
    },
    {
      "cell_type": "code",
      "source": [
        "# configure the training\n",
        "model.compile(loss='mse',metrics=['mse'],optimizer=tf.optimizers.Adam(learning_rate=0.005))"
      ],
      "metadata": {
        "id": "BiIk5GUegL-3"
      },
      "execution_count": null,
      "outputs": []
    },
    {
      "cell_type": "code",
      "source": [
        "# train the model. just run a few epochs for this test run. you can adjust later.\n",
        "model.fit(x=xTrain,y=y1sTrain,validation_data=(xTest, y1sTest),batch_size=128, epochs=20)"
      ],
      "metadata": {
        "colab": {
          "base_uri": "https://localhost:8080/"
        },
        "id": "rDup3D2bgYAG",
        "outputId": "c35e7246-a9b1-443c-ba36-b5e3104cadff"
      },
      "execution_count": null,
      "outputs": [
        {
          "output_type": "stream",
          "name": "stdout",
          "text": [
            "Epoch 1/20\n",
            "7/7 [==============================] - 1s 34ms/step - loss: 162193808.0000 - mse: 162193808.0000 - val_loss: 144874896.0000 - val_mse: 144874896.0000\n",
            "Epoch 2/20\n",
            "7/7 [==============================] - 0s 8ms/step - loss: 161189440.0000 - mse: 161189440.0000 - val_loss: 143089776.0000 - val_mse: 143089776.0000\n",
            "Epoch 3/20\n",
            "7/7 [==============================] - 0s 7ms/step - loss: 159481184.0000 - mse: 159481184.0000 - val_loss: 140110672.0000 - val_mse: 140110656.0000\n",
            "Epoch 4/20\n",
            "7/7 [==============================] - 0s 9ms/step - loss: 156371408.0000 - mse: 156371408.0000 - val_loss: 135347696.0000 - val_mse: 135347696.0000\n",
            "Epoch 5/20\n",
            "7/7 [==============================] - 0s 8ms/step - loss: 150705264.0000 - mse: 150705264.0000 - val_loss: 128158416.0000 - val_mse: 128158416.0000\n",
            "Epoch 6/20\n",
            "7/7 [==============================] - 0s 7ms/step - loss: 142590080.0000 - mse: 142590080.0000 - val_loss: 119936944.0000 - val_mse: 119936944.0000\n",
            "Epoch 7/20\n",
            "7/7 [==============================] - 0s 8ms/step - loss: 133811200.0000 - mse: 133811200.0000 - val_loss: 111928608.0000 - val_mse: 111928608.0000\n",
            "Epoch 8/20\n",
            "7/7 [==============================] - 0s 8ms/step - loss: 125290744.0000 - mse: 125290744.0000 - val_loss: 104526216.0000 - val_mse: 104526216.0000\n",
            "Epoch 9/20\n",
            "7/7 [==============================] - 0s 7ms/step - loss: 117492776.0000 - mse: 117492776.0000 - val_loss: 97722696.0000 - val_mse: 97722696.0000\n",
            "Epoch 10/20\n",
            "7/7 [==============================] - 0s 7ms/step - loss: 110220272.0000 - mse: 110220272.0000 - val_loss: 91426440.0000 - val_mse: 91426440.0000\n",
            "Epoch 11/20\n",
            "7/7 [==============================] - 0s 11ms/step - loss: 103575840.0000 - mse: 103575840.0000 - val_loss: 85609240.0000 - val_mse: 85609240.0000\n",
            "Epoch 12/20\n",
            "7/7 [==============================] - 0s 7ms/step - loss: 97369616.0000 - mse: 97369616.0000 - val_loss: 80232784.0000 - val_mse: 80232784.0000\n",
            "Epoch 13/20\n",
            "7/7 [==============================] - 0s 7ms/step - loss: 91630816.0000 - mse: 91630816.0000 - val_loss: 75228568.0000 - val_mse: 75228568.0000\n",
            "Epoch 14/20\n",
            "7/7 [==============================] - 0s 5ms/step - loss: 86299088.0000 - mse: 86299088.0000 - val_loss: 70604512.0000 - val_mse: 70604512.0000\n",
            "Epoch 15/20\n",
            "7/7 [==============================] - 0s 5ms/step - loss: 81260296.0000 - mse: 81260296.0000 - val_loss: 66273884.0000 - val_mse: 66273884.0000\n",
            "Epoch 16/20\n",
            "7/7 [==============================] - 0s 6ms/step - loss: 76561008.0000 - mse: 76561008.0000 - val_loss: 62224592.0000 - val_mse: 62224592.0000\n",
            "Epoch 17/20\n",
            "7/7 [==============================] - 0s 6ms/step - loss: 72210640.0000 - mse: 72210640.0000 - val_loss: 58491440.0000 - val_mse: 58491440.0000\n",
            "Epoch 18/20\n",
            "7/7 [==============================] - 0s 8ms/step - loss: 68144728.0000 - mse: 68144728.0000 - val_loss: 55039968.0000 - val_mse: 55039968.0000\n",
            "Epoch 19/20\n",
            "7/7 [==============================] - 0s 7ms/step - loss: 64369396.0000 - mse: 64369396.0000 - val_loss: 51751312.0000 - val_mse: 51751312.0000\n",
            "Epoch 20/20\n",
            "7/7 [==============================] - 0s 6ms/step - loss: 60806908.0000 - mse: 60806908.0000 - val_loss: 48688692.0000 - val_mse: 48688692.0000\n"
          ]
        },
        {
          "output_type": "execute_result",
          "data": {
            "text/plain": [
              "<keras.callbacks.History at 0x7fbc34462340>"
            ]
          },
          "metadata": {},
          "execution_count": 49
        }
      ]
    },
    {
      "cell_type": "code",
      "source": [
        "from keras.utils.vis_utils import plot_model\n",
        "plot_model(model, to_file='model_plot.png', show_shapes=True, show_layer_names=True)"
      ],
      "metadata": {
        "colab": {
          "base_uri": "https://localhost:8080/",
          "height": 201
        },
        "id": "GEXCxt9agknc",
        "outputId": "16b7ca52-3117-439a-f1e3-9a1bf5cfdde3"
      },
      "execution_count": null,
      "outputs": [
        {
          "output_type": "execute_result",
          "data": {
            "image/png": "[encoded data removed]",
            "text/plain": [
              "<IPython.core.display.Image object>"
            ]
          },
          "metadata": {},
          "execution_count": 50
        }
      ]
    },
    {
      "cell_type": "markdown",
      "source": [
        "# 3rd"
      ],
      "metadata": {
        "id": "11wZ8h2Zg6i0"
      }
    },
    {
      "cell_type": "code",
      "source": [
        "y2s=inputDataFrame['black_market_price'].to_numpy()"
      ],
      "metadata": {
        "id": "s6PCjIKQg1MY"
      },
      "execution_count": null,
      "outputs": []
    },
    {
      "cell_type": "code",
      "source": [
        "import sklearn\n",
        "from sklearn.model_selection import train_test_split\n",
        "xTrain, xTest, y2sTrain, y2sTest = train_test_split(x, y2s, test_size=0.20, random_state=42)\n",
        "print(f'x={xTrain[0]},y1={y1sTrain[0]}')"
      ],
      "metadata": {
        "colab": {
          "base_uri": "https://localhost:8080/"
        },
        "id": "Inbe2tKyhBlo",
        "outputId": "73680e7b-97bc-4766-a684-bf03d23567e6"
      },
      "execution_count": null,
      "outputs": [
        {
          "output_type": "stream",
          "name": "stdout",
          "text": [
            "x=[   6 5370  597 1824    1    0],y1=12413.5\n"
          ]
        }
      ]
    },
    {
      "cell_type": "code",
      "source": [
        "# configure the training\n",
        "model.compile(loss='mse',metrics=['mse'],optimizer=tf.optimizers.Adam(learning_rate=0.005))"
      ],
      "metadata": {
        "id": "zEJH2gt2hFhQ"
      },
      "execution_count": null,
      "outputs": []
    },
    {
      "cell_type": "code",
      "source": [
        "# train the model. just run a few epochs for this test run. you can adjust later.\n",
        "model.fit(x=xTrain,y=y1sTrain,validation_data=(xTest, y1sTest),batch_size=128, epochs=20)"
      ],
      "metadata": {
        "colab": {
          "base_uri": "https://localhost:8080/"
        },
        "id": "iftUN9-_hHwA",
        "outputId": "348f0dec-fdb6-4b64-bf1f-21946d5db68d"
      },
      "execution_count": null,
      "outputs": [
        {
          "output_type": "stream",
          "name": "stdout",
          "text": [
            "Epoch 1/20\n",
            "7/7 [==============================] - 0s 24ms/step - loss: 57180000.0000 - mse: 57180000.0000 - val_loss: 45310924.0000 - val_mse: 45310924.0000\n",
            "Epoch 2/20\n",
            "7/7 [==============================] - 0s 5ms/step - loss: 53481804.0000 - mse: 53481804.0000 - val_loss: 42119940.0000 - val_mse: 42119940.0000\n",
            "Epoch 3/20\n",
            "7/7 [==============================] - 0s 9ms/step - loss: 49894416.0000 - mse: 49894416.0000 - val_loss: 39124804.0000 - val_mse: 39124804.0000\n",
            "Epoch 4/20\n",
            "7/7 [==============================] - 0s 6ms/step - loss: 46587100.0000 - mse: 46587100.0000 - val_loss: 36341684.0000 - val_mse: 36341684.0000\n",
            "Epoch 5/20\n",
            "7/7 [==============================] - 0s 6ms/step - loss: 43472116.0000 - mse: 43472116.0000 - val_loss: 33765564.0000 - val_mse: 33765564.0000\n",
            "Epoch 6/20\n",
            "7/7 [==============================] - 0s 7ms/step - loss: 40562656.0000 - mse: 40562656.0000 - val_loss: 31419710.0000 - val_mse: 31419710.0000\n",
            "Epoch 7/20\n",
            "7/7 [==============================] - 0s 7ms/step - loss: 37926028.0000 - mse: 37926028.0000 - val_loss: 29253620.0000 - val_mse: 29253620.0000\n",
            "Epoch 8/20\n",
            "7/7 [==============================] - 0s 7ms/step - loss: 35466772.0000 - mse: 35466772.0000 - val_loss: 27264066.0000 - val_mse: 27264066.0000\n",
            "Epoch 9/20\n",
            "7/7 [==============================] - 0s 7ms/step - loss: 33195736.0000 - mse: 33195736.0000 - val_loss: 25445138.0000 - val_mse: 25445138.0000\n",
            "Epoch 10/20\n",
            "7/7 [==============================] - 0s 7ms/step - loss: 31112920.0000 - mse: 31112920.0000 - val_loss: 23815522.0000 - val_mse: 23815522.0000\n",
            "Epoch 11/20\n",
            "7/7 [==============================] - 0s 7ms/step - loss: 29191252.0000 - mse: 29191252.0000 - val_loss: 22376692.0000 - val_mse: 22376692.0000\n",
            "Epoch 12/20\n",
            "7/7 [==============================] - 0s 8ms/step - loss: 27478250.0000 - mse: 27478250.0000 - val_loss: 21074820.0000 - val_mse: 21074820.0000\n",
            "Epoch 13/20\n",
            "7/7 [==============================] - 0s 7ms/step - loss: 25942670.0000 - mse: 25942670.0000 - val_loss: 19888190.0000 - val_mse: 19888190.0000\n",
            "Epoch 14/20\n",
            "7/7 [==============================] - 0s 10ms/step - loss: 24548680.0000 - mse: 24548680.0000 - val_loss: 18831326.0000 - val_mse: 18831326.0000\n",
            "Epoch 15/20\n",
            "7/7 [==============================] - 0s 9ms/step - loss: 23261120.0000 - mse: 23261120.0000 - val_loss: 17914968.0000 - val_mse: 17914968.0000\n",
            "Epoch 16/20\n",
            "7/7 [==============================] - 0s 7ms/step - loss: 22155750.0000 - mse: 22155750.0000 - val_loss: 17104688.0000 - val_mse: 17104688.0000\n",
            "Epoch 17/20\n",
            "7/7 [==============================] - 0s 7ms/step - loss: 21091372.0000 - mse: 21091372.0000 - val_loss: 16390725.0000 - val_mse: 16390725.0000\n",
            "Epoch 18/20\n",
            "7/7 [==============================] - 0s 7ms/step - loss: 20217754.0000 - mse: 20217754.0000 - val_loss: 15753157.0000 - val_mse: 15753157.0000\n",
            "Epoch 19/20\n",
            "7/7 [==============================] - 0s 7ms/step - loss: 19381054.0000 - mse: 19381054.0000 - val_loss: 15207155.0000 - val_mse: 15207155.0000\n",
            "Epoch 20/20\n",
            "7/7 [==============================] - 0s 7ms/step - loss: 18661674.0000 - mse: 18661674.0000 - val_loss: 14738515.0000 - val_mse: 14738515.0000\n"
          ]
        },
        {
          "output_type": "execute_result",
          "data": {
            "text/plain": [
              "<keras.callbacks.History at 0x7fbc2dff6f40>"
            ]
          },
          "metadata": {},
          "execution_count": 54
        }
      ]
    },
    {
      "cell_type": "code",
      "source": [
        "from keras.utils.vis_utils import plot_model\n",
        "plot_model(model, to_file='model_plot.png', show_shapes=True, show_layer_names=True)"
      ],
      "metadata": {
        "colab": {
          "base_uri": "https://localhost:8080/",
          "height": 201
        },
        "id": "NmE_ZUrShJzu",
        "outputId": "6d4b403d-cb74-4cb1-fb84-a472931c6582"
      },
      "execution_count": null,
      "outputs": [
        {
          "output_type": "execute_result",
          "data": {
            "image/png": "[encoded data removed]",
            "text/plain": [
              "<IPython.core.display.Image object>"
            ]
          },
          "metadata": {},
          "execution_count": 55
        }
      ]
    },
    {
      "cell_type": "markdown",
      "source": [
        "# 4th"
      ],
      "metadata": {
        "id": "wYn52GuNhaR2"
      }
    },
    {
      "cell_type": "code",
      "source": [
        "# importing the classes for building the neural network layers\n",
        "from tensorflow.keras.layers import Dense,Input,Concatenate"
      ],
      "metadata": {
        "id": "_wc7WPMridnV"
      },
      "execution_count": null,
      "outputs": []
    },
    {
      "cell_type": "code",
      "source": [
        "initialiezer=tf.keras.initializers.RandomUniform(minval=0.0005, maxval=1, seed=100)\n",
        "\n",
        "input1= Input(shape=1)\n",
        "input2= Input(shape=1)\n",
        "input3= Input(shape=1)\n",
        "input4= Input(shape=1)\n",
        "input5= Input(shape=1)\n",
        "input6= Input(shape=1)\n",
        "\n",
        "l1=Dense(units=10,use_bias=True,activation='relu',kernel_initializer=initialiezer)(input1)\n",
        "l1=Dense(units=10,use_bias=True,activation='relu',kernel_initializer=initialiezer)(l1)\n",
        "\n",
        "l2=Dense(units=10,use_bias=True,activation='relu',kernel_initializer=initialiezer)(input2)\n",
        "l2=Dense(units=10,use_bias=True,activation='relu',kernel_initializer=initialiezer)(l2)\n",
        "\n",
        "l3=Dense(units=10,use_bias=True,activation='relu',kernel_initializer=initialiezer)(input3)\n",
        "l3=Dense(units=10,use_bias=True,activation='relu',kernel_initializer=initialiezer)(l3)\n",
        "\n",
        "l4=Dense(units=10,use_bias=True,activation='relu',kernel_initializer=initialiezer)(input4)\n",
        "l4=Dense(units=10,use_bias=True,activation='relu',kernel_initializer=initialiezer)(l4)\n",
        "\n",
        "l5=Dense(units=10,use_bias=True,activation='relu',kernel_initializer=initialiezer)(input5)\n",
        "l5=Dense(units=10,use_bias=True,activation='relu',kernel_initializer=initialiezer)(l5)\n",
        "\n",
        "l6=Dense(units=10,use_bias=True,activation='relu',kernel_initializer=initialiezer)(input6)\n",
        "l6=Dense(units=10,use_bias=True,activation='relu',kernel_initializer=initialiezer)(l6)\n",
        "\n",
        "concatted = Concatenate()([l1, l2,l3,l4,l5,l6])\n",
        "out1=Dense(units=10,use_bias=True,activation='relu',kernel_initializer=initialiezer)(concatted)\n",
        "out1=Dense(units=1,use_bias=True,activation='relu',kernel_initializer=initialiezer)(out1)\n",
        "\n",
        "out2=Dense(units=5,use_bias=True,activation='relu',kernel_initializer=initialiezer)(concatted)\n",
        "out2=Dense(units=1,use_bias=True,activation='relu',kernel_initializer=initialiezer)(out2)"
      ],
      "metadata": {
        "id": "BVAuhAUshbio"
      },
      "execution_count": null,
      "outputs": []
    },
    {
      "cell_type": "code",
      "source": [
        "from tensorflow.keras.models import Model"
      ],
      "metadata": {
        "id": "b2QSn0F6jCqt"
      },
      "execution_count": null,
      "outputs": []
    },
    {
      "cell_type": "code",
      "source": [
        "model=Model([input1,input2,input3,input4,input5,input6],[out1,out2])"
      ],
      "metadata": {
        "id": "8siZfuRgjEZV"
      },
      "execution_count": null,
      "outputs": []
    },
    {
      "cell_type": "code",
      "source": [
        "from keras.utils.vis_utils import plot_model\n",
        "plot_model(model, to_file='model_plot.png', show_shapes=True, show_layer_names=True)"
      ],
      "metadata": {
        "colab": {
          "base_uri": "https://localhost:8080/",
          "height": 616
        },
        "id": "i9OvJMS9jKpp",
        "outputId": "5a977473-93c4-475e-a847-25353fce04dc"
      },
      "execution_count": null,
      "outputs": [
        {
          "output_type": "execute_result",
          "data": {
            "image/png": "[encoded data removed]",
            "text/plain": [
              "<IPython.core.display.Image object>"
            ]
          },
          "metadata": {},
          "execution_count": 110
        }
      ]
    },
    {
      "cell_type": "code",
      "source": [
        "x1s=inputDataFrame['gold'].to_numpy()\n",
        "x2s=inputDataFrame['age'].to_numpy()\n",
        "x3s=inputDataFrame['iron'].to_numpy()\n",
        "x4s=inputDataFrame['silver'].to_numpy()\n",
        "x5s=inputDataFrame['inEgypt'].to_numpy()\n",
        "x6s=inputDataFrame['isAKing'].to_numpy()\n",
        "y1s=inputDataFrame['real_price'].to_numpy()\n",
        "y2s=inputDataFrame['black_market_price'].to_numpy()"
      ],
      "metadata": {
        "id": "nWUymwuUjd1P"
      },
      "execution_count": null,
      "outputs": []
    },
    {
      "cell_type": "code",
      "source": [
        "x1s=x1s.reshape(x1s.shape[0],1)\n",
        "x2s=x2s.reshape(x2s.shape[0],1)\n",
        "x3s=x3s.reshape(x3s.shape[0],1)\n",
        "x4s=x4s.reshape(x4s.shape[0],1)\n",
        "x5s=x5s.reshape(x5s.shape[0],1)\n",
        "x6s=x6s.reshape(x6s.shape[0],1)"
      ],
      "metadata": {
        "id": "4_NqOnBQlCym"
      },
      "execution_count": null,
      "outputs": []
    },
    {
      "cell_type": "code",
      "source": [
        "x=np.concatenate((x1s,x2s,x3s,x4s,x5s,x6s),axis=1)"
      ],
      "metadata": {
        "id": "1FHicxD1pkWO"
      },
      "execution_count": null,
      "outputs": []
    },
    {
      "cell_type": "code",
      "source": [
        "import sklearn\n",
        "from sklearn.model_selection import train_test_split\n",
        "x1Train, x1Test, x2Train, x2Test,  x3Train, x3Test, x4Train, x4Test, x5Train, x5Test,x6Train, x6Test, y1sTrain, y1sTest,y2sTrain, y2sTest = train_test_split(x1s,x2s,x3s,x4s,x5s,x6s, y1s, y2s, test_size=0.20, random_state=42)"
      ],
      "metadata": {
        "id": "oc-X447GlvwE"
      },
      "execution_count": null,
      "outputs": []
    },
    {
      "cell_type": "code",
      "source": [
        "# configure the training\n",
        "model.compile(loss='mse',metrics=['mse'],optimizer=tf.optimizers.Adam(learning_rate=0.005))"
      ],
      "metadata": {
        "id": "u2h4MEipl4ut"
      },
      "execution_count": null,
      "outputs": []
    },
    {
      "cell_type": "code",
      "source": [
        "# train the model. just run a few epochs for this test run. you can adjust later.\n",
        "history=model.fit(x=[x1Train, x2Train, x3Train, x4Train, x5Train, x6Train],y=[y1sTrain,y2sTrain],validation_data=([x1Test,x2Test,x3Test,x4Test,x5Test,x6Test],[y1sTest,y2sTest]),batch_size=64, epochs=30)"
      ],
      "metadata": {
        "colab": {
          "base_uri": "https://localhost:8080/"
        },
        "id": "WpPHFDYWl9fV",
        "outputId": "38751861-bdd4-41a1-ba12-b22cec77a6e9"
      },
      "execution_count": null,
      "outputs": [
        {
          "output_type": "stream",
          "name": "stdout",
          "text": [
            "Epoch 1/30\n",
            "13/13 [==============================] - 2s 39ms/step - loss: 1634196132986880.0000 - dense_49_loss: 92075040768.0000 - dense_51_loss: 1634104059625472.0000 - dense_49_mse: 92075040768.0000 - dense_51_mse: 1634104059625472.0000 - val_loss: 1621373910777856.0000 - val_dense_49_loss: 77323706368.0000 - val_dense_51_loss: 1621296332931072.0000 - val_dense_49_mse: 77323706368.0000 - val_dense_51_mse: 1621296332931072.0000\n",
            "Epoch 2/30\n",
            "13/13 [==============================] - 0s 8ms/step - loss: 1618914639347712.0000 - dense_49_loss: 64701427712.0000 - dense_51_loss: 1618849812185088.0000 - dense_49_mse: 64701427712.0000 - dense_51_mse: 1618849812185088.0000 - val_loss: 1602289760468992.0000 - val_dense_49_loss: 44982980608.0000 - val_dense_51_loss: 1602244797530112.0000 - val_dense_49_mse: 44982980608.0000 - val_dense_51_mse: 1602244797530112.0000\n",
            "Epoch 3/30\n",
            "13/13 [==============================] - 0s 8ms/step - loss: 1595183871295488.0000 - dense_49_loss: 30149455872.0000 - dense_51_loss: 1595153672306688.0000 - dense_49_mse: 30149455872.0000 - dense_51_mse: 1595153672306688.0000 - val_loss: 1572733540368384.0000 - val_dense_49_loss: 12363932672.0000 - val_dense_51_loss: 1572721192337408.0000 - val_dense_49_mse: 12363932672.0000 - val_dense_51_mse: 1572721192337408.0000\n",
            "Epoch 4/30\n",
            "13/13 [==============================] - 0s 9ms/step - loss: 1558605648101376.0000 - dense_49_loss: 4399298048.0000 - dense_51_loss: 1558601353134080.0000 - dense_49_mse: 4399298048.0000 - dense_51_mse: 1558601353134080.0000 - val_loss: 1527103942033408.0000 - val_dense_49_loss: 109419440.0000 - val_dense_51_loss: 1527103807815680.0000 - val_dense_49_mse: 109419440.0000 - val_dense_51_mse: 1527103807815680.0000\n",
            "Epoch 5/30\n",
            "13/13 [==============================] - 0s 6ms/step - loss: 1502569478225920.0000 - dense_49_loss: 159625600.0000 - dense_51_loss: 1502569209790464.0000 - dense_49_mse: 159625600.0000 - dense_51_mse: 1502569209790464.0000 - val_loss: 1458646458302464.0000 - val_dense_49_loss: 146195664.0000 - val_dense_51_loss: 1458646324084736.0000 - val_dense_49_mse: 146195664.0000 - val_dense_51_mse: 1458646324084736.0000\n",
            "Epoch 6/30\n",
            "13/13 [==============================] - 0s 8ms/step - loss: 1420276428439552.0000 - dense_49_loss: 162999904.0000 - dense_51_loss: 1420276428439552.0000 - dense_49_mse: 162999904.0000 - dense_51_mse: 1420276428439552.0000 - val_loss: 1359097840533504.0000 - val_dense_49_loss: 146195664.0000 - val_dense_51_loss: 1359097840533504.0000 - val_dense_49_mse: 146195664.0000 - val_dense_51_mse: 1359097840533504.0000\n",
            "Epoch 7/30\n",
            "13/13 [==============================] - 0s 9ms/step - loss: 1303416676548608.0000 - dense_49_loss: 162999888.0000 - dense_51_loss: 1303416676548608.0000 - dense_49_mse: 162999888.0000 - dense_51_mse: 1303416676548608.0000 - val_loss: 1221086716887040.0000 - val_dense_49_loss: 146195664.0000 - val_dense_51_loss: 1221086582669312.0000 - val_dense_49_mse: 146195664.0000 - val_dense_51_mse: 1221086582669312.0000\n",
            "Epoch 8/30\n",
            "13/13 [==============================] - 0s 7ms/step - loss: 1144596704788480.0000 - dense_49_loss: 162999904.0000 - dense_51_loss: 1144596436353024.0000 - dense_49_mse: 162999904.0000 - dense_51_mse: 1144596436353024.0000 - val_loss: 1040674870788096.0000 - val_dense_49_loss: 146195664.0000 - val_dense_51_loss: 1040674803679232.0000 - val_dense_49_mse: 146195664.0000 - val_dense_51_mse: 1040674803679232.0000\n",
            "Epoch 9/30\n",
            "13/13 [==============================] - 0s 8ms/step - loss: 943928652070912.0000 - dense_49_loss: 162999904.0000 - dense_51_loss: 943928383635456.0000 - dense_49_mse: 162999904.0000 - dense_51_mse: 943928383635456.0000 - val_loss: 820099242000384.0000 - val_dense_49_loss: 146195664.0000 - val_dense_51_loss: 820099174891520.0000 - val_dense_49_mse: 146195664.0000 - val_dense_51_mse: 820099174891520.0000\n",
            "Epoch 10/30\n",
            "13/13 [==============================] - 0s 7ms/step - loss: 707877383700480.0000 - dense_49_loss: 162999904.0000 - dense_51_loss: 707877249482752.0000 - dense_49_mse: 162999904.0000 - dense_51_mse: 707877249482752.0000 - val_loss: 576746260791296.0000 - val_dense_49_loss: 146195664.0000 - val_dense_51_loss: 576746193682432.0000 - val_dense_49_mse: 146195664.0000 - val_dense_51_mse: 576746193682432.0000\n",
            "Epoch 11/30\n",
            "13/13 [==============================] - 0s 7ms/step - loss: 465060434542592.0000 - dense_49_loss: 162999904.0000 - dense_51_loss: 465060266770432.0000 - dense_49_mse: 162999904.0000 - dense_51_mse: 465060266770432.0000 - val_loss: 340681369321472.0000 - val_dense_49_loss: 146195664.0000 - val_dense_51_loss: 340681235103744.0000 - val_dense_49_mse: 146195664.0000 - val_dense_51_mse: 340681235103744.0000\n",
            "Epoch 12/30\n",
            "13/13 [==============================] - 0s 6ms/step - loss: 247947086266368.0000 - dense_49_loss: 162999888.0000 - dense_51_loss: 247946851385344.0000 - dense_49_mse: 162999888.0000 - dense_51_mse: 247946851385344.0000 - val_loss: 157465480003584.0000 - val_dense_49_loss: 146195664.0000 - val_dense_51_loss: 157465312231424.0000 - val_dense_49_mse: 146195664.0000 - val_dense_51_mse: 157465312231424.0000\n",
            "Epoch 13/30\n",
            "13/13 [==============================] - 0s 6ms/step - loss: 100126324424704.0000 - dense_49_loss: 162999904.0000 - dense_51_loss: 100126173429760.0000 - dense_49_mse: 162999904.0000 - dense_51_mse: 100126173429760.0000 - val_loss: 54732991234048.0000 - val_dense_49_loss: 146195664.0000 - val_dense_51_loss: 54732844433408.0000 - val_dense_49_mse: 146195664.0000 - val_dense_51_mse: 54732844433408.0000\n",
            "Epoch 14/30\n",
            "13/13 [==============================] - 0s 7ms/step - loss: 33580791103488.0000 - dense_49_loss: 162999904.0000 - dense_51_loss: 33580629622784.0000 - dense_49_mse: 162999904.0000 - dense_51_mse: 33580629622784.0000 - val_loss: 22439855652864.0000 - val_dense_49_loss: 146195664.0000 - val_dense_51_loss: 22439706755072.0000 - val_dense_49_mse: 146195664.0000 - val_dense_51_mse: 22439706755072.0000\n",
            "Epoch 15/30\n",
            "13/13 [==============================] - 0s 7ms/step - loss: 20288915898368.0000 - dense_49_loss: 162999888.0000 - dense_51_loss: 20288752320512.0000 - dense_49_mse: 162999888.0000 - dense_51_mse: 20288752320512.0000 - val_loss: 19009716092928.0000 - val_dense_49_loss: 146195664.0000 - val_dense_51_loss: 19009569292288.0000 - val_dense_49_mse: 146195664.0000 - val_dense_51_mse: 19009569292288.0000\n",
            "Epoch 16/30\n",
            "13/13 [==============================] - 0s 7ms/step - loss: 20104905490432.0000 - dense_49_loss: 162999904.0000 - dense_51_loss: 20104739815424.0000 - dense_49_mse: 162999904.0000 - dense_51_mse: 20104739815424.0000 - val_loss: 18912762658816.0000 - val_dense_49_loss: 146195664.0000 - val_dense_51_loss: 18912613761024.0000 - val_dense_49_mse: 146195664.0000 - val_dense_51_mse: 18912613761024.0000\n",
            "Epoch 17/30\n",
            "13/13 [==============================] - 0s 8ms/step - loss: 19614115299328.0000 - dense_49_loss: 162999904.0000 - dense_51_loss: 19613951721472.0000 - dense_49_mse: 162999904.0000 - dense_51_mse: 19613951721472.0000 - val_loss: 18588123529216.0000 - val_dense_49_loss: 146195664.0000 - val_dense_51_loss: 18587976728576.0000 - val_dense_49_mse: 146195664.0000 - val_dense_51_mse: 18587976728576.0000\n",
            "Epoch 18/30\n",
            "13/13 [==============================] - 0s 6ms/step - loss: 19040170934272.0000 - dense_49_loss: 162999904.0000 - dense_51_loss: 19040011550720.0000 - dense_49_mse: 162999904.0000 - dense_51_mse: 19040011550720.0000 - val_loss: 18541948436480.0000 - val_dense_49_loss: 146195664.0000 - val_dense_51_loss: 18541801635840.0000 - val_dense_49_mse: 146195664.0000 - val_dense_51_mse: 18541801635840.0000\n",
            "Epoch 19/30\n",
            "13/13 [==============================] - 0s 6ms/step - loss: 18796377014272.0000 - dense_49_loss: 162999904.0000 - dense_51_loss: 18796215533568.0000 - dense_49_mse: 162999904.0000 - dense_51_mse: 18796215533568.0000 - val_loss: 18473289777152.0000 - val_dense_49_loss: 146195664.0000 - val_dense_51_loss: 18473145073664.0000 - val_dense_49_mse: 146195664.0000 - val_dense_51_mse: 18473145073664.0000\n",
            "Epoch 20/30\n",
            "13/13 [==============================] - 0s 7ms/step - loss: 18557448486912.0000 - dense_49_loss: 162999904.0000 - dense_51_loss: 18557287006208.0000 - dense_49_mse: 162999904.0000 - dense_51_mse: 18557287006208.0000 - val_loss: 18223980347392.0000 - val_dense_49_loss: 146195664.0000 - val_dense_51_loss: 18223831449600.0000 - val_dense_49_mse: 146195664.0000 - val_dense_51_mse: 18223831449600.0000\n",
            "Epoch 21/30\n",
            "13/13 [==============================] - 0s 7ms/step - loss: 18336320585728.0000 - dense_49_loss: 162999888.0000 - dense_51_loss: 18336157007872.0000 - dense_49_mse: 162999888.0000 - dense_51_mse: 18336157007872.0000 - val_loss: 17950356537344.0000 - val_dense_49_loss: 146195664.0000 - val_dense_51_loss: 17950211833856.0000 - val_dense_49_mse: 146195664.0000 - val_dense_51_mse: 17950211833856.0000\n",
            "Epoch 22/30\n",
            "13/13 [==============================] - 0s 6ms/step - loss: 18086992281600.0000 - dense_49_loss: 162999904.0000 - dense_51_loss: 18086830800896.0000 - dense_49_mse: 162999904.0000 - dense_51_mse: 18086830800896.0000 - val_loss: 17802314383360.0000 - val_dense_49_loss: 146195664.0000 - val_dense_51_loss: 17802167582720.0000 - val_dense_49_mse: 146195664.0000 - val_dense_51_mse: 17802167582720.0000\n",
            "Epoch 23/30\n",
            "13/13 [==============================] - 0s 6ms/step - loss: 17867972018176.0000 - dense_49_loss: 162999904.0000 - dense_51_loss: 17867808440320.0000 - dense_49_mse: 162999904.0000 - dense_51_mse: 17867808440320.0000 - val_loss: 17651063586816.0000 - val_dense_49_loss: 146195664.0000 - val_dense_51_loss: 17650914689024.0000 - val_dense_49_mse: 146195664.0000 - val_dense_51_mse: 17650914689024.0000\n",
            "Epoch 24/30\n",
            "13/13 [==============================] - 0s 6ms/step - loss: 17666727215104.0000 - dense_49_loss: 162999904.0000 - dense_51_loss: 17666563637248.0000 - dense_49_mse: 162999904.0000 - dense_51_mse: 17666563637248.0000 - val_loss: 17502441570304.0000 - val_dense_49_loss: 146195664.0000 - val_dense_51_loss: 17502296866816.0000 - val_dense_49_mse: 146195664.0000 - val_dense_51_mse: 17502296866816.0000\n",
            "Epoch 25/30\n",
            "13/13 [==============================] - 0s 8ms/step - loss: 17483595513856.0000 - dense_49_loss: 162999888.0000 - dense_51_loss: 17483432984576.0000 - dense_49_mse: 162999888.0000 - dense_51_mse: 17483432984576.0000 - val_loss: 17315749953536.0000 - val_dense_49_loss: 146195664.0000 - val_dense_51_loss: 17315603152896.0000 - val_dense_49_mse: 146195664.0000 - val_dense_51_mse: 17315603152896.0000\n",
            "Epoch 26/30\n",
            "13/13 [==============================] - 0s 6ms/step - loss: 17304367661056.0000 - dense_49_loss: 162999888.0000 - dense_51_loss: 17304206180352.0000 - dense_49_mse: 162999888.0000 - dense_51_mse: 17304206180352.0000 - val_loss: 17219103752192.0000 - val_dense_49_loss: 146195664.0000 - val_dense_51_loss: 17218959048704.0000 - val_dense_49_mse: 146195664.0000 - val_dense_51_mse: 17218959048704.0000\n",
            "Epoch 27/30\n",
            "13/13 [==============================] - 0s 7ms/step - loss: 17115469840384.0000 - dense_49_loss: 162999904.0000 - dense_51_loss: 17115308359680.0000 - dense_49_mse: 162999904.0000 - dense_51_mse: 17115308359680.0000 - val_loss: 17101190332416.0000 - val_dense_49_loss: 146195664.0000 - val_dense_51_loss: 17101043531776.0000 - val_dense_49_mse: 146195664.0000 - val_dense_51_mse: 17101043531776.0000\n",
            "Epoch 28/30\n",
            "13/13 [==============================] - 0s 9ms/step - loss: 16950609575936.0000 - dense_49_loss: 162999888.0000 - dense_51_loss: 16950448095232.0000 - dense_49_mse: 162999888.0000 - dense_51_mse: 16950448095232.0000 - val_loss: 16949267398656.0000 - val_dense_49_loss: 146195664.0000 - val_dense_51_loss: 16949121646592.0000 - val_dense_49_mse: 146195664.0000 - val_dense_51_mse: 16949121646592.0000\n",
            "Epoch 29/30\n",
            "13/13 [==============================] - 0s 7ms/step - loss: 16801142407168.0000 - dense_49_loss: 162999904.0000 - dense_51_loss: 16800977780736.0000 - dense_49_mse: 162999904.0000 - dense_51_mse: 16800977780736.0000 - val_loss: 16834425257984.0000 - val_dense_49_loss: 146195664.0000 - val_dense_51_loss: 16834278457344.0000 - val_dense_49_mse: 146195664.0000 - val_dense_51_mse: 16834278457344.0000\n",
            "Epoch 30/30\n",
            "13/13 [==============================] - 0s 7ms/step - loss: 16653920239616.0000 - dense_49_loss: 162999904.0000 - dense_51_loss: 16653758758912.0000 - dense_49_mse: 162999904.0000 - dense_51_mse: 16653758758912.0000 - val_loss: 16735998574592.0000 - val_dense_49_loss: 146195664.0000 - val_dense_51_loss: 16735851773952.0000 - val_dense_49_mse: 146195664.0000 - val_dense_51_mse: 16735851773952.0000\n"
          ]
        }
      ]
    }
  ]
}